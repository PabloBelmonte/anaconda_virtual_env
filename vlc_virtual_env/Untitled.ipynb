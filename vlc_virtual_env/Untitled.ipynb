{
 "cells": [
  {
   "cell_type": "code",
   "execution_count": 3,
   "metadata": {},
   "outputs": [],
   "source": [
    "import numpy as np\n",
    "import time\n",
    "from timeit import default_timer as timer\n",
    "\n",
    "from numba import vectorize, cuda"
   ]
  },
  {
   "cell_type": "code",
   "execution_count": 4,
   "metadata": {},
   "outputs": [],
   "source": [
    "@vectorize(['float32(float32, float32)'], target='cuda')\n",
    "def VectorAdd(a, b):\n",
    "    return a + b"
   ]
  },
  {
   "cell_type": "code",
   "execution_count": 7,
   "metadata": {},
   "outputs": [],
   "source": [
    "def VectorAdd_slow(a, b, c):\n",
    "    for i in range(a.size):\n",
    "        c[i] = a[i] + b[i]"
   ]
  },
  {
   "cell_type": "code",
   "execution_count": 12,
   "metadata": {},
   "outputs": [],
   "source": [
    "def main():\n",
    "    N = 32000000\n",
    "    \n",
    "    A = np.ones(N, dtype=np.float32)\n",
    "    B = np.ones(N, dtype=np.float32)\n",
    "    C = np.ones(N, dtype=np.float32)\n",
    "    \n",
    "    # start = time.time()\n",
    "    start = timer()\n",
    "    C = VectorAdd(A, B)\n",
    "    # VectorAdd_slow(A, B, C)\n",
    "    vector_add_time = timer() - start\n",
    "    print (\"C[:5] = \" + str(C[:5]))\n",
    "    print (\"C[-5:] = \" + str(C[-5:]))\n",
    "\n",
    "    print (f\"VectorAdd took for {vector_add_time} seconds\")"
   ]
  },
  {
   "cell_type": "code",
   "execution_count": 14,
   "metadata": {},
   "outputs": [
    {
     "name": "stdout",
     "output_type": "stream",
     "text": [
      "C[:5] = [2. 2. 2. 2. 2.]\n",
      "C[-5:] = [2. 2. 2. 2. 2.]\n",
      "VectorAdd took for 0.6910561000000257 seconds\n"
     ]
    }
   ],
   "source": [
    "if __name__=='__main__':\n",
    "    main()"
   ]
  },
  {
   "cell_type": "code",
   "execution_count": null,
   "metadata": {},
   "outputs": [],
   "source": []
  }
 ],
 "metadata": {
  "kernelspec": {
   "display_name": "Python 3",
   "language": "python",
   "name": "python3"
  },
  "language_info": {
   "codemirror_mode": {
    "name": "ipython",
    "version": 3
   },
   "file_extension": ".py",
   "mimetype": "text/x-python",
   "name": "python",
   "nbconvert_exporter": "python",
   "pygments_lexer": "ipython3",
   "version": "3.8.3"
  }
 },
 "nbformat": 4,
 "nbformat_minor": 4
}
